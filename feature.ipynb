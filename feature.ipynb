{
 "cells": [
  {
   "cell_type": "code",
   "execution_count": 1,
   "metadata": {},
   "outputs": [
    {
     "name": "stderr",
     "output_type": "stream",
     "text": [
      "/opt/conda/envs/nnUNet/lib/python3.10/site-packages/tqdm/auto.py:22: TqdmWarning: IProgress not found. Please update jupyter and ipywidgets. See https://ipywidgets.readthedocs.io/en/stable/user_install.html\n",
      "  from .autonotebook import tqdm as notebook_tqdm\n"
     ]
    }
   ],
   "source": [
    "import torch\n",
    "from tqdm import tqdm\n",
    "from torchvision import transforms, models\n",
    "from torch.utils.data import Dataset\n",
    "from torch.utils.data import DataLoader\n",
    "from torchvision import transforms\n",
    "import os\n",
    "import random\n",
    "\n",
    "import numpy as np\n",
    "from tqdm import tqdm\n",
    "from PIL import Image\n",
    "import ssl\n",
    "import gc  "
   ]
  },
  {
   "cell_type": "code",
   "execution_count": 2,
   "metadata": {},
   "outputs": [
    {
     "name": "stderr",
     "output_type": "stream",
     "text": [
      "Using cache found in /home/hchen19/.cache/torch/hub/facebookresearch_dinov2_main\n"
     ]
    },
    {
     "data": {
      "text/plain": [
       "['dinov2_vitb14',\n",
       " 'dinov2_vitb14_dd',\n",
       " 'dinov2_vitb14_lc',\n",
       " 'dinov2_vitb14_ld',\n",
       " 'dinov2_vitb14_reg',\n",
       " 'dinov2_vitb14_reg_lc',\n",
       " 'dinov2_vitg14',\n",
       " 'dinov2_vitg14_dd',\n",
       " 'dinov2_vitg14_lc',\n",
       " 'dinov2_vitg14_ld',\n",
       " 'dinov2_vitg14_reg',\n",
       " 'dinov2_vitg14_reg_lc',\n",
       " 'dinov2_vitl14',\n",
       " 'dinov2_vitl14_dd',\n",
       " 'dinov2_vitl14_lc',\n",
       " 'dinov2_vitl14_ld',\n",
       " 'dinov2_vitl14_reg',\n",
       " 'dinov2_vitl14_reg_lc',\n",
       " 'dinov2_vits14',\n",
       " 'dinov2_vits14_dd',\n",
       " 'dinov2_vits14_lc',\n",
       " 'dinov2_vits14_ld',\n",
       " 'dinov2_vits14_reg',\n",
       " 'dinov2_vits14_reg_lc']"
      ]
     },
     "execution_count": 2,
     "metadata": {},
     "output_type": "execute_result"
    }
   ],
   "source": [
    "torch.hub.list('facebookresearch/dinov2')  # List all models available"
   ]
  },
  {
   "cell_type": "code",
   "execution_count": 3,
   "metadata": {},
   "outputs": [
    {
     "name": "stderr",
     "output_type": "stream",
     "text": [
      "Using cache found in /home/hchen19/.cache/torch/hub/facebookresearch_dinov2_main\n",
      "/home/hchen19/.cache/torch/hub/facebookresearch_dinov2_main/dinov2/layers/swiglu_ffn.py:51: UserWarning: xFormers is not available (SwiGLU)\n",
      "  warnings.warn(\"xFormers is not available (SwiGLU)\")\n",
      "/home/hchen19/.cache/torch/hub/facebookresearch_dinov2_main/dinov2/layers/attention.py:33: UserWarning: xFormers is not available (Attention)\n",
      "  warnings.warn(\"xFormers is not available (Attention)\")\n",
      "/home/hchen19/.cache/torch/hub/facebookresearch_dinov2_main/dinov2/layers/block.py:40: UserWarning: xFormers is not available (Block)\n",
      "  warnings.warn(\"xFormers is not available (Block)\")\n"
     ]
    },
    {
     "name": "stdout",
     "output_type": "stream",
     "text": [
      "Using device: cuda\n"
     ]
    }
   ],
   "source": [
    "\n",
    "ssl._create_default_https_context = ssl._create_unverified_context\n",
    "dinov2_model = torch.hub.load('facebookresearch/dinov2', 'dinov2_vitl14')\n",
    "device = torch.device('cuda' if torch.cuda.is_available() else 'cpu')\n",
    "print(\"Using device:\", device)\n",
    "dinov2_model.to(device)  # Move your model to the GPU\n",
    "\n",
    "def get_labels(files):\n",
    "    \"\"\"\n",
    "    This function takes a list of file paths and returns a list of unique labels extracted from the\n",
    "    directory names in the file paths.\n",
    "    \n",
    "    :param files: a list of file paths (strings) that include the directory and filename, separated\n",
    "    by backslashes (\"\\\") on Windows or forward slashes (\"/\") on Unix-based systems\n",
    "    :return: a list of unique labels extracted from the file paths provided in the `files` parameter.\n",
    "    \"\"\"\n",
    "    labels = []\n",
    "    for file_path in files:\n",
    "        directory, _ = file_path.split(\"\\\\\")\n",
    "        directory_parts = directory.split(\"/\")\n",
    "        label = directory_parts[-1]\n",
    "        if label not in labels:\n",
    "            labels.append(label)\n",
    "    return labels\n",
    "\n",
    "\n",
    "def list_files(dataset_path):\n",
    "    print(\"Listing files in:\", dataset_path)\n",
    "    images = []\n",
    "    for root, _, files in sorted(os.walk(dataset_path)):\n",
    "        for name in sorted(files):\n",
    "            if name.lower().endswith('.tif'):\n",
    "                images.append(os.path.join(root, name))\n",
    "    print(f\"Found {len(images)} .tif files.\")\n",
    "    return images\n",
    "\n",
    "\n",
    "class CustomImageDataset(Dataset):\n",
    "    \"\"\"The above class is a custom dataset class for images in PyTorch.\"\"\"\n",
    "    def __init__(self, img_dir):\n",
    "        self.img_dir = img_dir\n",
    "        self.images = list_files(self.img_dir)\n",
    "        print(self.images[:100])\n",
    "        self.transform =  transforms.Compose([\n",
    "                            transforms.Resize(252),\n",
    "                            transforms.CenterCrop(252),\n",
    "                            transforms.ToTensor(),\n",
    "                            transforms.Normalize([0.485, 0.456, 0.406],\n",
    "                                                [0.229, 0.224, 0.225])\n",
    "                        ])\n",
    "\n",
    "    def __len__(self):\n",
    "        return len(self.images)\n",
    "\n",
    "    def __getitem__(self, idx):\n",
    "        img_path = self.images[idx]\n",
    "        image = Image.open(img_path).convert(\"RGB\")\n",
    "        if self.transform:\n",
    "            image = self.transform(image)\n",
    "        return image, img_path\n",
    "\n",
    "\n",
    "\n",
    "\n",
    "\n",
    "\n"
   ]
  },
  {
   "cell_type": "code",
   "execution_count": 4,
   "metadata": {
    "tags": []
   },
   "outputs": [
    {
     "name": "stdout",
     "output_type": "stream",
     "text": [
      "Listing files in: /mnt/gvd0n1/Abbas/Projects/Dyer/Danielle/Fundus_batch6_April29/crop/\n",
      "Found 21294 .tif files.\n",
      "['/mnt/gvd0n1/Abbas/Projects/Dyer/Danielle/Fundus_batch6_April29/crop/DL6-1-23-3_B-T87L964D_OCT_Image_LE_Line-2023-01-10-09-16-25_fundus_298.tif', '/mnt/gvd0n1/Abbas/Projects/Dyer/Danielle/Fundus_batch6_April29/crop/DL6-1-23-3_B-T87L964D_OCT_Image_LE_Line-2023-01-10-09-16-25_fundus_542.tif', '/mnt/gvd0n1/Abbas/Projects/Dyer/Danielle/Fundus_batch6_April29/crop/DL6-1-23-3_B-T87L964D_OCT_Image_LE_Line-2023-01-10-09-16-25_fundus_786.tif', '/mnt/gvd0n1/Abbas/Projects/Dyer/Danielle/Fundus_batch6_April29/crop/DL6-1-23-3_B-T87L964D_OCT_Image_LE_Line-2023-01-10-09-16-28_fundus_298.tif', '/mnt/gvd0n1/Abbas/Projects/Dyer/Danielle/Fundus_batch6_April29/crop/DL6-1-23-3_B-T87L964D_OCT_Image_LE_Line-2023-01-10-09-16-28_fundus_542.tif', '/mnt/gvd0n1/Abbas/Projects/Dyer/Danielle/Fundus_batch6_April29/crop/DL6-1-23-3_B-T87L964D_OCT_Image_LE_Line-2023-01-10-09-16-28_fundus_786.tif', '/mnt/gvd0n1/Abbas/Projects/Dyer/Danielle/Fundus_batch6_April29/crop/DL6-1-23-3_B-T87L964D_OCT_Image_LE_Line-2023-01-10-09-16-31_fundus_298.tif', '/mnt/gvd0n1/Abbas/Projects/Dyer/Danielle/Fundus_batch6_April29/crop/DL6-1-23-3_B-T87L964D_OCT_Image_LE_Line-2023-01-10-09-16-31_fundus_542.tif', '/mnt/gvd0n1/Abbas/Projects/Dyer/Danielle/Fundus_batch6_April29/crop/DL6-1-23-3_B-T87L964D_OCT_Image_LE_Line-2023-01-10-09-16-31_fundus_786.tif', '/mnt/gvd0n1/Abbas/Projects/Dyer/Danielle/Fundus_batch6_April29/crop/DL6-1-23-3_B-T87L964D_OCT_Image_LE_Line-2023-01-10-09-16-34_fundus_298.tif', '/mnt/gvd0n1/Abbas/Projects/Dyer/Danielle/Fundus_batch6_April29/crop/DL6-1-23-3_B-T87L964D_OCT_Image_LE_Line-2023-01-10-09-16-34_fundus_542.tif', '/mnt/gvd0n1/Abbas/Projects/Dyer/Danielle/Fundus_batch6_April29/crop/DL6-1-23-3_B-T87L964D_OCT_Image_LE_Line-2023-01-10-09-16-34_fundus_786.tif', '/mnt/gvd0n1/Abbas/Projects/Dyer/Danielle/Fundus_batch6_April29/crop/DL6-1-23-3_B-T87L964D_OCT_Image_LE_Line-2023-01-10-09-16-51_fundus_298.tif', '/mnt/gvd0n1/Abbas/Projects/Dyer/Danielle/Fundus_batch6_April29/crop/DL6-1-23-3_B-T87L964D_OCT_Image_LE_Line-2023-01-10-09-16-51_fundus_542.tif', '/mnt/gvd0n1/Abbas/Projects/Dyer/Danielle/Fundus_batch6_April29/crop/DL6-1-23-3_B-T87L964D_OCT_Image_LE_Line-2023-01-10-09-16-51_fundus_786.tif', '/mnt/gvd0n1/Abbas/Projects/Dyer/Danielle/Fundus_batch6_April29/crop/DL6-1-23-3_B-T87L964D_OCT_Image_LE_Line-2023-01-10-09-16-54_fundus_298.tif', '/mnt/gvd0n1/Abbas/Projects/Dyer/Danielle/Fundus_batch6_April29/crop/DL6-1-23-3_B-T87L964D_OCT_Image_LE_Line-2023-01-10-09-16-54_fundus_542.tif', '/mnt/gvd0n1/Abbas/Projects/Dyer/Danielle/Fundus_batch6_April29/crop/DL6-1-23-3_B-T87L964D_OCT_Image_LE_Line-2023-01-10-09-16-54_fundus_786.tif', '/mnt/gvd0n1/Abbas/Projects/Dyer/Danielle/Fundus_batch6_April29/crop/DL6-1-23-3_B-T87L964D_OCT_Image_LE_Line-2023-01-10-09-16-56_fundus_298.tif', '/mnt/gvd0n1/Abbas/Projects/Dyer/Danielle/Fundus_batch6_April29/crop/DL6-1-23-3_B-T87L964D_OCT_Image_LE_Line-2023-01-10-09-16-56_fundus_542.tif', '/mnt/gvd0n1/Abbas/Projects/Dyer/Danielle/Fundus_batch6_April29/crop/DL6-1-23-3_B-T87L964D_OCT_Image_LE_Line-2023-01-10-09-16-56_fundus_786.tif', '/mnt/gvd0n1/Abbas/Projects/Dyer/Danielle/Fundus_batch6_April29/crop/DL6-1-23-3_B-T87L964D_OCT_Image_LE_Line-2023-01-10-09-16-58_fundus_298.tif', '/mnt/gvd0n1/Abbas/Projects/Dyer/Danielle/Fundus_batch6_April29/crop/DL6-1-23-3_B-T87L964D_OCT_Image_LE_Line-2023-01-10-09-16-58_fundus_542.tif', '/mnt/gvd0n1/Abbas/Projects/Dyer/Danielle/Fundus_batch6_April29/crop/DL6-1-23-3_B-T87L964D_OCT_Image_LE_Line-2023-01-10-09-16-58_fundus_786.tif', '/mnt/gvd0n1/Abbas/Projects/Dyer/Danielle/Fundus_batch6_April29/crop/DL6-1-23-3_B-T87L964D_OCT_Image_LE_Line-2023-01-10-09-17-04_fundus_298.tif', '/mnt/gvd0n1/Abbas/Projects/Dyer/Danielle/Fundus_batch6_April29/crop/DL6-1-23-3_B-T87L964D_OCT_Image_LE_Line-2023-01-10-09-17-04_fundus_542.tif', '/mnt/gvd0n1/Abbas/Projects/Dyer/Danielle/Fundus_batch6_April29/crop/DL6-1-23-3_B-T87L964D_OCT_Image_LE_Line-2023-01-10-09-17-04_fundus_786.tif', '/mnt/gvd0n1/Abbas/Projects/Dyer/Danielle/Fundus_batch6_April29/crop/DL6-1-23-3_B-T87L964D_OCT_Image_LE_Line-2023-01-10-09-17-07_fundus_298.tif', '/mnt/gvd0n1/Abbas/Projects/Dyer/Danielle/Fundus_batch6_April29/crop/DL6-1-23-3_B-T87L964D_OCT_Image_LE_Line-2023-01-10-09-17-07_fundus_542.tif', '/mnt/gvd0n1/Abbas/Projects/Dyer/Danielle/Fundus_batch6_April29/crop/DL6-1-23-3_B-T87L964D_OCT_Image_LE_Line-2023-01-10-09-17-07_fundus_786.tif', '/mnt/gvd0n1/Abbas/Projects/Dyer/Danielle/Fundus_batch6_April29/crop/DL6-1-23-3_B-T87L964D_OCT_Image_LE_Line-2023-01-10-09-17-10_fundus_298.tif', '/mnt/gvd0n1/Abbas/Projects/Dyer/Danielle/Fundus_batch6_April29/crop/DL6-1-23-3_B-T87L964D_OCT_Image_LE_Line-2023-01-10-09-17-10_fundus_542.tif', '/mnt/gvd0n1/Abbas/Projects/Dyer/Danielle/Fundus_batch6_April29/crop/DL6-1-23-3_B-T87L964D_OCT_Image_LE_Line-2023-01-10-09-17-10_fundus_786.tif', '/mnt/gvd0n1/Abbas/Projects/Dyer/Danielle/Fundus_batch6_April29/crop/DL6-1-23-3_B-T87L964D_OCT_Image_RE_Line-2023-01-10-09-22-33_fundus_298.tif', '/mnt/gvd0n1/Abbas/Projects/Dyer/Danielle/Fundus_batch6_April29/crop/DL6-1-23-3_B-T87L964D_OCT_Image_RE_Line-2023-01-10-09-22-33_fundus_542.tif', '/mnt/gvd0n1/Abbas/Projects/Dyer/Danielle/Fundus_batch6_April29/crop/DL6-1-23-3_B-T87L964D_OCT_Image_RE_Line-2023-01-10-09-22-33_fundus_786.tif', '/mnt/gvd0n1/Abbas/Projects/Dyer/Danielle/Fundus_batch6_April29/crop/DL6-1-23-3_B-T87L964D_OCT_Image_RE_Line-2023-01-10-09-22-42_fundus_298.tif', '/mnt/gvd0n1/Abbas/Projects/Dyer/Danielle/Fundus_batch6_April29/crop/DL6-1-23-3_B-T87L964D_OCT_Image_RE_Line-2023-01-10-09-22-42_fundus_542.tif', '/mnt/gvd0n1/Abbas/Projects/Dyer/Danielle/Fundus_batch6_April29/crop/DL6-1-23-3_B-T87L964D_OCT_Image_RE_Line-2023-01-10-09-22-42_fundus_786.tif', '/mnt/gvd0n1/Abbas/Projects/Dyer/Danielle/Fundus_batch6_April29/crop/DL6-1-23-3_B-T87L964D_OCT_Image_RE_Line-2023-01-10-09-22-57_fundus_298.tif', '/mnt/gvd0n1/Abbas/Projects/Dyer/Danielle/Fundus_batch6_April29/crop/DL6-1-23-3_B-T87L964D_OCT_Image_RE_Line-2023-01-10-09-22-57_fundus_542.tif', '/mnt/gvd0n1/Abbas/Projects/Dyer/Danielle/Fundus_batch6_April29/crop/DL6-1-23-3_B-T87L964D_OCT_Image_RE_Line-2023-01-10-09-22-57_fundus_786.tif', '/mnt/gvd0n1/Abbas/Projects/Dyer/Danielle/Fundus_batch6_April29/crop/DL6-1-23-3_B-T87L964D_OCT_Image_RE_Line-2023-01-10-09-23-00_fundus_298.tif', '/mnt/gvd0n1/Abbas/Projects/Dyer/Danielle/Fundus_batch6_April29/crop/DL6-1-23-3_B-T87L964D_OCT_Image_RE_Line-2023-01-10-09-23-00_fundus_542.tif', '/mnt/gvd0n1/Abbas/Projects/Dyer/Danielle/Fundus_batch6_April29/crop/DL6-1-23-3_B-T87L964D_OCT_Image_RE_Line-2023-01-10-09-23-00_fundus_786.tif', '/mnt/gvd0n1/Abbas/Projects/Dyer/Danielle/Fundus_batch6_April29/crop/DL6-1-23-3_B-T87L964D_OCT_Image_RE_Line-2023-01-10-09-23-02_fundus_298.tif', '/mnt/gvd0n1/Abbas/Projects/Dyer/Danielle/Fundus_batch6_April29/crop/DL6-1-23-3_B-T87L964D_OCT_Image_RE_Line-2023-01-10-09-23-02_fundus_542.tif', '/mnt/gvd0n1/Abbas/Projects/Dyer/Danielle/Fundus_batch6_April29/crop/DL6-1-23-3_B-T87L964D_OCT_Image_RE_Line-2023-01-10-09-23-02_fundus_786.tif', '/mnt/gvd0n1/Abbas/Projects/Dyer/Danielle/Fundus_batch6_April29/crop/DL6-1-23-3_B-T87L964D_OCT_Image_RE_Line-2023-01-10-09-23-05_fundus_298.tif', '/mnt/gvd0n1/Abbas/Projects/Dyer/Danielle/Fundus_batch6_April29/crop/DL6-1-23-3_B-T87L964D_OCT_Image_RE_Line-2023-01-10-09-23-05_fundus_542.tif', '/mnt/gvd0n1/Abbas/Projects/Dyer/Danielle/Fundus_batch6_April29/crop/DL6-1-23-3_B-T87L964D_OCT_Image_RE_Line-2023-01-10-09-23-05_fundus_786.tif', '/mnt/gvd0n1/Abbas/Projects/Dyer/Danielle/Fundus_batch6_April29/crop/DL6-1-23-3_B-T87L964D_OCT_Image_RE_Line-2023-01-10-09-23-10_fundus_298.tif', '/mnt/gvd0n1/Abbas/Projects/Dyer/Danielle/Fundus_batch6_April29/crop/DL6-1-23-3_B-T87L964D_OCT_Image_RE_Line-2023-01-10-09-23-10_fundus_542.tif', '/mnt/gvd0n1/Abbas/Projects/Dyer/Danielle/Fundus_batch6_April29/crop/DL6-1-23-3_B-T87L964D_OCT_Image_RE_Line-2023-01-10-09-23-10_fundus_786.tif', '/mnt/gvd0n1/Abbas/Projects/Dyer/Danielle/Fundus_batch6_April29/crop/DL6-1-23-3_B-T95R963D_OCT_Image_LE_Line-2023-01-10-08-55-16_fundus_298.tif', '/mnt/gvd0n1/Abbas/Projects/Dyer/Danielle/Fundus_batch6_April29/crop/DL6-1-23-3_B-T95R963D_OCT_Image_LE_Line-2023-01-10-08-55-16_fundus_542.tif', '/mnt/gvd0n1/Abbas/Projects/Dyer/Danielle/Fundus_batch6_April29/crop/DL6-1-23-3_B-T95R963D_OCT_Image_LE_Line-2023-01-10-08-55-16_fundus_786.tif', '/mnt/gvd0n1/Abbas/Projects/Dyer/Danielle/Fundus_batch6_April29/crop/DL6-1-23-3_B-T95R963D_OCT_Image_LE_Line-2023-01-10-08-55-25_fundus_298.tif', '/mnt/gvd0n1/Abbas/Projects/Dyer/Danielle/Fundus_batch6_April29/crop/DL6-1-23-3_B-T95R963D_OCT_Image_LE_Line-2023-01-10-08-55-25_fundus_542.tif', '/mnt/gvd0n1/Abbas/Projects/Dyer/Danielle/Fundus_batch6_April29/crop/DL6-1-23-3_B-T95R963D_OCT_Image_LE_Line-2023-01-10-08-55-25_fundus_786.tif', '/mnt/gvd0n1/Abbas/Projects/Dyer/Danielle/Fundus_batch6_April29/crop/DL6-1-23-3_B-T95R963D_OCT_Image_LE_Line-2023-01-10-08-55-27_fundus_298.tif', '/mnt/gvd0n1/Abbas/Projects/Dyer/Danielle/Fundus_batch6_April29/crop/DL6-1-23-3_B-T95R963D_OCT_Image_LE_Line-2023-01-10-08-55-27_fundus_542.tif', '/mnt/gvd0n1/Abbas/Projects/Dyer/Danielle/Fundus_batch6_April29/crop/DL6-1-23-3_B-T95R963D_OCT_Image_LE_Line-2023-01-10-08-55-27_fundus_786.tif', '/mnt/gvd0n1/Abbas/Projects/Dyer/Danielle/Fundus_batch6_April29/crop/DL6-1-23-3_B-T95R963D_OCT_Image_LE_Line-2023-01-10-08-55-34_fundus_298.tif', '/mnt/gvd0n1/Abbas/Projects/Dyer/Danielle/Fundus_batch6_April29/crop/DL6-1-23-3_B-T95R963D_OCT_Image_LE_Line-2023-01-10-08-55-34_fundus_542.tif', '/mnt/gvd0n1/Abbas/Projects/Dyer/Danielle/Fundus_batch6_April29/crop/DL6-1-23-3_B-T95R963D_OCT_Image_LE_Line-2023-01-10-08-55-34_fundus_786.tif', '/mnt/gvd0n1/Abbas/Projects/Dyer/Danielle/Fundus_batch6_April29/crop/DL6-1-23-3_B-T95R963D_OCT_Image_LE_Line-2023-01-10-08-55-37_fundus_298.tif', '/mnt/gvd0n1/Abbas/Projects/Dyer/Danielle/Fundus_batch6_April29/crop/DL6-1-23-3_B-T95R963D_OCT_Image_LE_Line-2023-01-10-08-55-37_fundus_542.tif', '/mnt/gvd0n1/Abbas/Projects/Dyer/Danielle/Fundus_batch6_April29/crop/DL6-1-23-3_B-T95R963D_OCT_Image_LE_Line-2023-01-10-08-55-37_fundus_786.tif', '/mnt/gvd0n1/Abbas/Projects/Dyer/Danielle/Fundus_batch6_April29/crop/DL6-1-23-3_B-T95R963D_OCT_Image_LE_Line-2023-01-10-08-55-39_fundus_298.tif', '/mnt/gvd0n1/Abbas/Projects/Dyer/Danielle/Fundus_batch6_April29/crop/DL6-1-23-3_B-T95R963D_OCT_Image_LE_Line-2023-01-10-08-55-39_fundus_542.tif', '/mnt/gvd0n1/Abbas/Projects/Dyer/Danielle/Fundus_batch6_April29/crop/DL6-1-23-3_B-T95R963D_OCT_Image_LE_Line-2023-01-10-08-55-39_fundus_786.tif', '/mnt/gvd0n1/Abbas/Projects/Dyer/Danielle/Fundus_batch6_April29/crop/DL6-1-23-3_B-T95R963D_OCT_Image_LE_Line-2023-01-10-08-55-42_fundus_298.tif', '/mnt/gvd0n1/Abbas/Projects/Dyer/Danielle/Fundus_batch6_April29/crop/DL6-1-23-3_B-T95R963D_OCT_Image_LE_Line-2023-01-10-08-55-42_fundus_542.tif', '/mnt/gvd0n1/Abbas/Projects/Dyer/Danielle/Fundus_batch6_April29/crop/DL6-1-23-3_B-T95R963D_OCT_Image_LE_Line-2023-01-10-08-55-42_fundus_786.tif', '/mnt/gvd0n1/Abbas/Projects/Dyer/Danielle/Fundus_batch6_April29/crop/DL6-1-23-3_B-T95R963D_OCT_Image_LE_Line-2023-01-10-08-55-50_fundus_298.tif', '/mnt/gvd0n1/Abbas/Projects/Dyer/Danielle/Fundus_batch6_April29/crop/DL6-1-23-3_B-T95R963D_OCT_Image_LE_Line-2023-01-10-08-55-50_fundus_542.tif', '/mnt/gvd0n1/Abbas/Projects/Dyer/Danielle/Fundus_batch6_April29/crop/DL6-1-23-3_B-T95R963D_OCT_Image_LE_Line-2023-01-10-08-55-50_fundus_786.tif', '/mnt/gvd0n1/Abbas/Projects/Dyer/Danielle/Fundus_batch6_April29/crop/DL6-1-23-3_B-T95R963D_OCT_Image_RE_Line-2023-01-10-09-05-19_fundus_298.tif', '/mnt/gvd0n1/Abbas/Projects/Dyer/Danielle/Fundus_batch6_April29/crop/DL6-1-23-3_B-T95R963D_OCT_Image_RE_Line-2023-01-10-09-05-19_fundus_542.tif', '/mnt/gvd0n1/Abbas/Projects/Dyer/Danielle/Fundus_batch6_April29/crop/DL6-1-23-3_B-T95R963D_OCT_Image_RE_Line-2023-01-10-09-05-19_fundus_786.tif', '/mnt/gvd0n1/Abbas/Projects/Dyer/Danielle/Fundus_batch6_April29/crop/DL6-1-23-3_B-T95R963D_OCT_Image_RE_Line-2023-01-10-09-05-33_fundus_298.tif', '/mnt/gvd0n1/Abbas/Projects/Dyer/Danielle/Fundus_batch6_April29/crop/DL6-1-23-3_B-T95R963D_OCT_Image_RE_Line-2023-01-10-09-05-33_fundus_542.tif', '/mnt/gvd0n1/Abbas/Projects/Dyer/Danielle/Fundus_batch6_April29/crop/DL6-1-23-3_B-T95R963D_OCT_Image_RE_Line-2023-01-10-09-05-33_fundus_786.tif', '/mnt/gvd0n1/Abbas/Projects/Dyer/Danielle/Fundus_batch6_April29/crop/DL6-1-23-3_B-T95R963D_OCT_Image_RE_Line-2023-01-10-09-05-38_fundus_298.tif', '/mnt/gvd0n1/Abbas/Projects/Dyer/Danielle/Fundus_batch6_April29/crop/DL6-1-23-3_B-T95R963D_OCT_Image_RE_Line-2023-01-10-09-05-38_fundus_542.tif', '/mnt/gvd0n1/Abbas/Projects/Dyer/Danielle/Fundus_batch6_April29/crop/DL6-1-23-3_B-T95R963D_OCT_Image_RE_Line-2023-01-10-09-05-38_fundus_786.tif', '/mnt/gvd0n1/Abbas/Projects/Dyer/Danielle/Fundus_batch6_April29/crop/DL6-1-23-3_B-T95R963D_OCT_Image_RE_Line-2023-01-10-09-05-40_fundus_298.tif', '/mnt/gvd0n1/Abbas/Projects/Dyer/Danielle/Fundus_batch6_April29/crop/DL6-1-23-3_B-T95R963D_OCT_Image_RE_Line-2023-01-10-09-05-40_fundus_542.tif', '/mnt/gvd0n1/Abbas/Projects/Dyer/Danielle/Fundus_batch6_April29/crop/DL6-1-23-3_B-T95R963D_OCT_Image_RE_Line-2023-01-10-09-05-40_fundus_786.tif', '/mnt/gvd0n1/Abbas/Projects/Dyer/Danielle/Fundus_batch6_April29/crop/DL6-1-23-3_B-T95R963D_OCT_Image_RE_Line-2023-01-10-09-05-43_fundus_298.tif', '/mnt/gvd0n1/Abbas/Projects/Dyer/Danielle/Fundus_batch6_April29/crop/DL6-1-23-3_B-T95R963D_OCT_Image_RE_Line-2023-01-10-09-05-43_fundus_542.tif', '/mnt/gvd0n1/Abbas/Projects/Dyer/Danielle/Fundus_batch6_April29/crop/DL6-1-23-3_B-T95R963D_OCT_Image_RE_Line-2023-01-10-09-05-43_fundus_786.tif', '/mnt/gvd0n1/Abbas/Projects/Dyer/Danielle/Fundus_batch6_April29/crop/DL6-1-23-3_B-T95R963D_OCT_Image_RE_Line-2023-01-10-09-05-54_fundus_298.tif', '/mnt/gvd0n1/Abbas/Projects/Dyer/Danielle/Fundus_batch6_April29/crop/DL6-1-23-3_B-T95R963D_OCT_Image_RE_Line-2023-01-10-09-05-54_fundus_542.tif', '/mnt/gvd0n1/Abbas/Projects/Dyer/Danielle/Fundus_batch6_April29/crop/DL6-1-23-3_B-T95R963D_OCT_Image_RE_Line-2023-01-10-09-05-54_fundus_786.tif', '/mnt/gvd0n1/Abbas/Projects/Dyer/Danielle/Fundus_batch6_April29/crop/DL6-1-23-3_B-T95R963D_OCT_Image_RE_Line-2023-01-10-09-05-57_fundus_298.tif', '/mnt/gvd0n1/Abbas/Projects/Dyer/Danielle/Fundus_batch6_April29/crop/DL6-1-23-3_B-T95R963D_OCT_Image_RE_Line-2023-01-10-09-05-57_fundus_542.tif', '/mnt/gvd0n1/Abbas/Projects/Dyer/Danielle/Fundus_batch6_April29/crop/DL6-1-23-3_B-T95R963D_OCT_Image_RE_Line-2023-01-10-09-05-57_fundus_786.tif', '/mnt/gvd0n1/Abbas/Projects/Dyer/Danielle/Fundus_batch6_April29/crop/DL6-1-23-3_B-T95R963D_OCT_Image_RE_Line-2023-01-10-09-05-59_fundus_298.tif']\n",
      "21294\n"
     ]
    },
    {
     "name": "stderr",
     "output_type": "stream",
     "text": [
      "  0%|          | 0/333 [00:00<?, ?it/s]"
     ]
    },
    {
     "name": "stderr",
     "output_type": "stream",
     "text": [
      "100%|██████████| 333/333 [34:12<00:00,  6.16s/it]\n"
     ]
    }
   ],
   "source": [
    "\n",
    "\n",
    "dir_path = \"/mnt/gvd0n1/Abbas/Projects/Dyer/Danielle/Fundus_batch6_April29/crop/\"\n",
    "dataset = CustomImageDataset(dir_path)\n",
    "print(dataset.__len__())\n",
    "train_dataloader = DataLoader(dataset, batch_size=64, shuffle=False)\n",
    "\n",
    "final_img_features = []\n",
    "final_img_filepaths = []\n",
    "\n",
    "for image_tensors, file_paths in tqdm(train_dataloader):\n",
    "    try:\n",
    "        with torch.no_grad():  # Disable gradient computation\n",
    "            img_t = image_tensors.to(device)\n",
    "            image_features = dinov2_model(img_t) #384 small, #768 base, #1024 large\n",
    "            image_features /= image_features.norm(dim=-1, keepdim=True)\n",
    "            image_features = image_features.cpu()\n",
    "            image_features = image_features.tolist()\n",
    "\n",
    "            # Append data to lists \n",
    "            final_img_features.extend(image_features)\n",
    "            final_img_filepaths.extend(list(file_paths))\n",
    "\n",
    "        # Explicitly delete tensors to free up memory\n",
    "        del img_t\n",
    "        del image_features\n",
    "        torch.cuda.empty_cache()  # Clear memory cache\n",
    "\n",
    "    except Exception as e:\n",
    "        print(\"Exception occurred: \", e)\n",
    "        break\n",
    "    finally:\n",
    "        # Force garbage collection to run (optional, could be expensive)\n",
    "        gc.collect()\n"
   ]
  },
  {
   "cell_type": "code",
   "execution_count": 5,
   "metadata": {},
   "outputs": [
    {
     "data": {
      "text/plain": [
       "('1',\n",
       " 'DL6-1-23-3_B-T87L964D_OCT_Image_LE_Line-2023-01-10-09-16-25_fundus_298.tif',\n",
       " 'DR')"
      ]
     },
     "execution_count": 5,
     "metadata": {},
     "output_type": "execute_result"
    }
   ],
   "source": [
    "\"1\",\"DL6-1-23-3_B-T87L964D_OCT_Image_LE_Line-2023-01-10-09-16-25_fundus_298.tif\",\"DR\"\n"
   ]
  },
  {
   "cell_type": "code",
   "execution_count": 7,
   "metadata": {},
   "outputs": [],
   "source": [
    "if not os.path.exists(\"/mnt/storage1/Haoran/projects/retina/retina-dinov2/feature/vitl14_pretrained\"):\n",
    "    os.makedirs(\"/mnt/storage1/Haoran/projects/retina/retina-dinov2/feature/vitl14_pretrained\")\n",
    "np.save(\"/mnt/storage1/Haoran/projects/retina/retina-dinov2/feature/vitl14_pretrained/feature.npy\", final_img_features)"
   ]
  },
  {
   "cell_type": "code",
   "execution_count": null,
   "metadata": {},
   "outputs": [],
   "source": []
  }
 ],
 "metadata": {
  "kernelspec": {
   "display_name": "nnUNet Kernel",
   "language": "python",
   "name": "nnunet"
  },
  "language_info": {
   "codemirror_mode": {
    "name": "ipython",
    "version": 3
   },
   "file_extension": ".py",
   "mimetype": "text/x-python",
   "name": "python",
   "nbconvert_exporter": "python",
   "pygments_lexer": "ipython3",
   "version": "3.10.9"
  }
 },
 "nbformat": 4,
 "nbformat_minor": 4
}
